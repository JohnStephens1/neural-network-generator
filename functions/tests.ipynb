{
 "cells": [
  {
   "cell_type": "code",
   "execution_count": 2,
   "outputs": [],
   "source": [
    "import numpy as np\n",
    "\n",
    "from functions.quick_maths import cross_entropy_cost, d_relu, d_sigmoid, d_leaky_relu\n",
    "from functions.data_preparation import train_val_test_split, train_test_split\n",
    "# noinspection PyUnresolvedReferences\n",
    "from ipynb.fs.full.main import initialize_parameters"
   ],
   "metadata": {
    "collapsed": false,
    "pycharm": {
     "name": "#%%\n"
    }
   }
  },
  {
   "cell_type": "code",
   "execution_count": 3,
   "outputs": [],
   "source": [
    "def difference_negligible(x, y):\n",
    "\treturn abs(x - y) < 0.001\n",
    "\n",
    "def print_error(name, calculated, correct_value):\n",
    "\treturn f\"\\n{name} calculated:\\n{calculated}\\n this should be\\n{correct_value}\"\n",
    "\n",
    "def print_success(name):\n",
    "\tprint(f\"No error encountered, the function '{name}()' is working as intended!\")"
   ],
   "metadata": {
    "collapsed": false,
    "pycharm": {
     "name": "#%%\n"
    }
   }
  },
  {
   "cell_type": "code",
   "execution_count": 10,
   "outputs": [],
   "source": [
    "def test_initialize_parameters():\n",
    "\tname = \"initialize_parameters\"\n",
    "\tparameters = initialize_parameters([3, 2, 1])\n",
    "\n",
    "\tassert parameters[\"W1\"].shape == (2, 3), \"W1 should be (2, 3)\"\n",
    "\tassert parameters[\"b1\"].shape == (2, 1), \"b1 should be (2, 1)\"\n",
    "\tassert parameters[\"W2\"].shape == (1, 2), \"W2 should be (1, 2)\"\n",
    "\tassert parameters[\"b2\"].shape == (1, 1), \"b2 should be (1, 1)\"\n",
    "\tprint_success(name)"
   ],
   "metadata": {
    "collapsed": false,
    "pycharm": {
     "name": "#%%\n"
    }
   }
  },
  {
   "cell_type": "code",
   "execution_count": 1,
   "outputs": [
    {
     "ename": "NameError",
     "evalue": "name 'np' is not defined",
     "output_type": "error",
     "traceback": [
      "\u001B[1;31m---------------------------------------------------------------------------\u001B[0m",
      "\u001B[1;31mNameError\u001B[0m                                 Traceback (most recent call last)",
      "\u001B[1;32m~\\AppData\\Local\\Temp/ipykernel_13960/3794022361.py\u001B[0m in \u001B[0;36m<module>\u001B[1;34m\u001B[0m\n\u001B[0;32m      9\u001B[0m         \u001B[0mprint_success\u001B[0m\u001B[1;33m(\u001B[0m\u001B[0mname\u001B[0m\u001B[1;33m)\u001B[0m\u001B[1;33m\u001B[0m\u001B[1;33m\u001B[0m\u001B[0m\n\u001B[0;32m     10\u001B[0m \u001B[1;33m\u001B[0m\u001B[0m\n\u001B[1;32m---> 11\u001B[1;33m \u001B[0mtest_cross_entropy_cost\u001B[0m\u001B[1;33m(\u001B[0m\u001B[1;33m)\u001B[0m\u001B[1;33m\u001B[0m\u001B[1;33m\u001B[0m\u001B[0m\n\u001B[0m",
      "\u001B[1;32m~\\AppData\\Local\\Temp/ipykernel_13960/3794022361.py\u001B[0m in \u001B[0;36mtest_cross_entropy_cost\u001B[1;34m()\u001B[0m\n\u001B[0;32m      1\u001B[0m \u001B[1;32mdef\u001B[0m \u001B[0mtest_cross_entropy_cost\u001B[0m\u001B[1;33m(\u001B[0m\u001B[1;33m)\u001B[0m\u001B[1;33m:\u001B[0m\u001B[1;33m\u001B[0m\u001B[1;33m\u001B[0m\u001B[0m\n\u001B[0;32m      2\u001B[0m         \u001B[0mname\u001B[0m \u001B[1;33m=\u001B[0m \u001B[1;34m\"cross_entropy_cost\"\u001B[0m\u001B[1;33m\u001B[0m\u001B[1;33m\u001B[0m\u001B[0m\n\u001B[1;32m----> 3\u001B[1;33m         \u001B[0mY\u001B[0m \u001B[1;33m=\u001B[0m \u001B[0mnp\u001B[0m\u001B[1;33m.\u001B[0m\u001B[0marray\u001B[0m\u001B[1;33m(\u001B[0m\u001B[1;33m[\u001B[0m\u001B[1;33m[\u001B[0m\u001B[1;36m1\u001B[0m\u001B[1;33m,\u001B[0m \u001B[1;36m0\u001B[0m\u001B[1;33m,\u001B[0m \u001B[1;36m1\u001B[0m\u001B[1;33m]\u001B[0m\u001B[1;33m]\u001B[0m\u001B[1;33m)\u001B[0m\u001B[1;33m\u001B[0m\u001B[1;33m\u001B[0m\u001B[0m\n\u001B[0m\u001B[0;32m      4\u001B[0m         \u001B[0mY_hat\u001B[0m \u001B[1;33m=\u001B[0m \u001B[0mnp\u001B[0m\u001B[1;33m.\u001B[0m\u001B[0marray\u001B[0m\u001B[1;33m(\u001B[0m\u001B[1;33m[\u001B[0m\u001B[1;33m[\u001B[0m\u001B[1;36m0.5\u001B[0m\u001B[1;33m,\u001B[0m \u001B[1;36m0.2\u001B[0m\u001B[1;33m,\u001B[0m \u001B[1;36m0.9\u001B[0m\u001B[1;33m]\u001B[0m\u001B[1;33m]\u001B[0m\u001B[1;33m)\u001B[0m\u001B[1;33m\u001B[0m\u001B[1;33m\u001B[0m\u001B[0m\n\u001B[0;32m      5\u001B[0m \u001B[1;33m\u001B[0m\u001B[0m\n",
      "\u001B[1;31mNameError\u001B[0m: name 'np' is not defined"
     ]
    }
   ],
   "source": [
    "def test_cross_entropy_cost():\n",
    "\tname = \"cross_entropy_cost\"\n",
    "\tY = np.array([[1, 0, 1]])\n",
    "\tY_hat = np.array([[0.5, 0.2, 0.9]])\n",
    "\n",
    "\tcost = cross_entropy_cost(Y_hat, Y)\n",
    "\n",
    "\tassert difference_negligible(cost, 0.34055), f\"{name}\\ncost: {cost} should be around 0.34055\"\n",
    "\tprint_success(name)\n",
    "\n",
    "test_cross_entropy_cost()"
   ],
   "metadata": {
    "collapsed": false,
    "pycharm": {
     "name": "#%%\n"
    }
   }
  },
  {
   "cell_type": "code",
   "execution_count": null,
   "outputs": [],
   "source": [
    "def test_d_relu():\n",
    "\tname = \"d_relu\"\n",
    "\ttest = np.array([[1, 1, 1], [2, 2, 2], [-1, 0, 1]])\n",
    "\tcorrect_result = np.array([[1, 1, 1], [1, 1, 1], [0, 0, 1]])\n",
    "\n",
    "\tcalculated = d_relu(test)\n",
    "\n",
    "\tassert (calculated == correct_result).all(), print_error(name, calculated, correct_result)\n",
    "\tprint_success(name)"
   ],
   "metadata": {
    "collapsed": false,
    "pycharm": {
     "name": "#%%\n"
    }
   }
  },
  {
   "cell_type": "code",
   "execution_count": null,
   "outputs": [],
   "source": [
    "def test_d_leaky_relu(): # DEPRECATED\n",
    "\tname = \"d_leaky_relu\"\n",
    "\ttest = np.array([-2., -1., 0, 1, 2, 3])\n",
    "\t# with a assumed to be 0.01\n",
    "\tcorrect_result = np.array([0.01, 0.01, 0.01, 1, 1, 1])\n",
    "\n",
    "\tcalculated = d_leaky_relu(test)\n",
    "\n",
    "\tassert difference_negligible(correct_result, calculated).all(), print_error(name, calculated, correct_result)\n",
    "\tprint_success(name)"
   ],
   "metadata": {
    "collapsed": false,
    "pycharm": {
     "name": "#%%\n"
    }
   }
  },
  {
   "cell_type": "code",
   "execution_count": null,
   "outputs": [],
   "source": [
    "def test_d_sigmoid(): # DEPRECATED\n",
    "\tname = \"d_sigmoid\"\n",
    "\ttest = np.array([0, 0.5, 1, 1.5, 2, -3])\n",
    "\tcorrect_result = np.array([0.25, 0.235, 0.1966, 0.1491465, 0.105, 0.045176])\n",
    "\n",
    "\tcalculated = d_sigmoid(test)\n",
    "\n",
    "\tassert difference_negligible(calculated, correct_result).all(), print_error(name, calculated, correct_result)\n",
    "\tprint_success(name)"
   ],
   "metadata": {
    "collapsed": false,
    "pycharm": {
     "name": "#%%\n"
    }
   }
  },
  {
   "cell_type": "code",
   "execution_count": null,
   "outputs": [],
   "source": [
    "def test_train_test_split(): # the naming, 10/10\n",
    "\tname = \"train_test_split\"\n",
    "\tX = np.random.rand(10, 10)\n",
    "\tY = np.random.rand(10, 1)\n",
    "\n",
    "\tsolutions = [(7, 10), (7, 1), (3, 10), (3, 1)]\n",
    "\n",
    "\tresults = []\n",
    "\n",
    "\tXtr, Ytr, Xte, Yte = train_test_split(X, Y)\n",
    "\n",
    "\tfor i, x in enumerate([Xtr, Ytr, Xte, Yte]):\n",
    "\t\tresults.append(x.shape)\n",
    "\n",
    "\tassert results == solutions, print_error(name, results, solutions)\n",
    "\tprint_success(name)"
   ],
   "metadata": {
    "collapsed": false,
    "pycharm": {
     "name": "#%%\n"
    }
   }
  },
  {
   "cell_type": "code",
   "execution_count": null,
   "outputs": [],
   "source": [
    "def test_train_val_test_split():\n",
    "\tname = \"train_val_test_split\"\n",
    "\tX = np.random.rand(10, 10)\n",
    "\tY = np.random.rand(10, 1)\n",
    "\n",
    "\tsolutions = [(7, 10), (7, 1), (2, 10), (2, 1), (1, 10), (1, 1)]\n",
    "\n",
    "\tresults = []\n",
    "\n",
    "\tXtr, Ytr, Xv, Yv, Xte, Yte = train_val_test_split(X, Y)\n",
    "\n",
    "\tfor i, x in enumerate([Xtr, Ytr, Xv, Yv, Xte, Yte]):\n",
    "\t\tresults.append(x.shape)\n",
    "\n",
    "\tassert results == solutions, print_error(name, results, solutions)\n",
    "\tprint_success(name)"
   ],
   "metadata": {
    "collapsed": false,
    "pycharm": {
     "name": "#%%\n"
    }
   }
  },
  {
   "cell_type": "code",
   "execution_count": null,
   "outputs": [],
   "source": [
    "def gradient_checking(e):\n"
   ],
   "metadata": {
    "collapsed": false,
    "pycharm": {
     "name": "#%%\n"
    }
   }
  },
  {
   "cell_type": "code",
   "execution_count": null,
   "outputs": [],
   "source": [
    "def run_all_tests():\n",
    "\ttest_initialize_parameters()\n",
    "\ttest_cross_entropy_cost()\n",
    "\t# test_d_relu()\n",
    "\t# test_d_leaky_relu()\n",
    "\t# test_d_sigmoid()\n",
    "\ttest_train_test_split()\n",
    "\ttest_train_val_test_split()\n",
    "\tprint(\"All tests completed successfully, no errors encountered!\")"
   ],
   "metadata": {
    "collapsed": false,
    "pycharm": {
     "name": "#%%\n"
    }
   }
  },
  {
   "cell_type": "code",
   "execution_count": null,
   "outputs": [],
   "source": [
    "run_all_tests()\n",
    "#TODO:\n",
    "# - implement gradient checking\n",
    "# - add test for L2 regularization\n",
    "# - I really need to write proper tests for everything..."
   ],
   "metadata": {
    "collapsed": false,
    "pycharm": {
     "name": "#%%\n"
    }
   }
  }
 ],
 "metadata": {
  "kernelspec": {
   "display_name": "Python 3",
   "language": "python",
   "name": "python3"
  },
  "language_info": {
   "codemirror_mode": {
    "name": "ipython",
    "version": 2
   },
   "file_extension": ".py",
   "mimetype": "text/x-python",
   "name": "python",
   "nbconvert_exporter": "python",
   "pygments_lexer": "ipython2",
   "version": "2.7.6"
  }
 },
 "nbformat": 4,
 "nbformat_minor": 0
}